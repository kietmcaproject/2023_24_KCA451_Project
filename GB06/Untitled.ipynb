{
 "cells": [
  {
   "cell_type": "code",
   "execution_count": null,
   "id": "fc987e8f",
   "metadata": {},
   "outputs": [
    {
     "name": "stdout",
     "output_type": "stream",
     "text": [
      " * Serving Flask app '__main__'\n",
      " * Debug mode: off\n"
     ]
    },
    {
     "name": "stderr",
     "output_type": "stream",
     "text": [
      "WARNING: This is a development server. Do not use it in a production deployment. Use a production WSGI server instead.\n",
      " * Running on http://127.0.0.1:5000\n",
      "Press CTRL+C to quit\n",
      "127.0.0.1 - - [15/Jun/2024 10:23:29] \"GET / HTTP/1.1\" 200 -\n",
      "127.0.0.1 - - [15/Jun/2024 10:23:29] \"GET /static/p2.png HTTP/1.1\" 304 -\n",
      "127.0.0.1 - - [15/Jun/2024 10:23:32] \"GET /recommendation HTTP/1.1\" 200 -\n"
     ]
    },
    {
     "name": "stdout",
     "output_type": "stream",
     "text": [
      "Men in Black 3\n"
     ]
    },
    {
     "name": "stderr",
     "output_type": "stream",
     "text": [
      "127.0.0.1 - - [15/Jun/2024 10:23:49] \"POST /recommendation HTTP/1.1\" 200 -\n"
     ]
    },
    {
     "name": "stdout",
     "output_type": "stream",
     "text": [
      "['Men in Black 3', 'Timecop', 'Rush Hour 2', 'In Time', \"The Time Traveler's Wife\", 'Project Almanac', 'Murder by Numbers', 'Somewhere in Time']\n",
      "['https://image.tmdb.org/t/p/w500//90DdoEStzeObs96fsYf4GG544iN.jpg', 'https://image.tmdb.org/t/p/w500//bgxP6ws8ErBiarnb4S93vv0lkf4.jpg', 'https://image.tmdb.org/t/p/w500//aBQf2vMiCINeVC9v6BGVYKXurTh.jpg', 'https://image.tmdb.org/t/p/w500//3Mwj2sIONQckOZP3YwsUXF7U5I4.jpg', 'https://image.tmdb.org/t/p/w500//J3ewuzQwhFro0pDpdcbZ4j7MYy.jpg', 'https://image.tmdb.org/t/p/w500//r59tzuqi6AoxRKdPHzg3ZBke7aA.jpg', 'https://image.tmdb.org/t/p/w500//plH3TujSUVttiIikToKfwdCorJI.jpg', 'https://image.tmdb.org/t/p/w500//hmdegiSwVYUNvEfihaE3HRM3Sos.jpg']\n",
      "Men in Black 3\n"
     ]
    },
    {
     "name": "stderr",
     "output_type": "stream",
     "text": [
      "127.0.0.1 - - [15/Jun/2024 10:37:16] \"POST /recommendation HTTP/1.1\" 200 -\n"
     ]
    },
    {
     "name": "stdout",
     "output_type": "stream",
     "text": [
      "['Men in Black 3', 'Timecop', 'Rush Hour 2', 'In Time', \"The Time Traveler's Wife\", 'Project Almanac', 'Murder by Numbers', 'Somewhere in Time']\n",
      "['https://image.tmdb.org/t/p/w500//90DdoEStzeObs96fsYf4GG544iN.jpg', 'https://image.tmdb.org/t/p/w500//bgxP6ws8ErBiarnb4S93vv0lkf4.jpg', 'https://image.tmdb.org/t/p/w500//aBQf2vMiCINeVC9v6BGVYKXurTh.jpg', 'https://image.tmdb.org/t/p/w500//3Mwj2sIONQckOZP3YwsUXF7U5I4.jpg', 'https://image.tmdb.org/t/p/w500//J3ewuzQwhFro0pDpdcbZ4j7MYy.jpg', 'https://image.tmdb.org/t/p/w500//r59tzuqi6AoxRKdPHzg3ZBke7aA.jpg', 'https://image.tmdb.org/t/p/w500//plH3TujSUVttiIikToKfwdCorJI.jpg', 'https://image.tmdb.org/t/p/w500//hmdegiSwVYUNvEfihaE3HRM3Sos.jpg']\n",
      "The Avengers\n"
     ]
    },
    {
     "name": "stderr",
     "output_type": "stream",
     "text": [
      "127.0.0.1 - - [15/Jun/2024 10:37:36] \"POST /recommendation HTTP/1.1\" 200 -\n"
     ]
    },
    {
     "name": "stdout",
     "output_type": "stream",
     "text": [
      "['The Avengers', 'Avengers: Age of Ultron', 'Captain America: Civil War', 'Captain America: The First Avenger', 'Iron Man 3', 'Ant-Man', 'Iron Man 2', 'Iron Man']\n",
      "['https://image.tmdb.org/t/p/w500//RYMX2wcKCBAr24UyPD7xwmjaTn.jpg', 'https://image.tmdb.org/t/p/w500//4ssDuvEDkSArWEdyBl2X5EHvYKU.jpg', 'https://image.tmdb.org/t/p/w500//rAGiXaUfPzY7CDEyNKUofk3Kw2e.jpg', 'https://image.tmdb.org/t/p/w500//vSNxAJTlD0r02V9sPYpOjqDZXUK.jpg', 'https://image.tmdb.org/t/p/w500//qhPtAc1TKbMPqNvcdXSOn9Bn7hZ.jpg', 'https://image.tmdb.org/t/p/w500//rQRnQfUl3kfp78nCWq8Ks04vnq1.jpg', 'https://image.tmdb.org/t/p/w500//6WBeq4fCfn7AN0o21W9qNcRF2l9.jpg', 'https://image.tmdb.org/t/p/w500//78lPtwv72eTNqFW9COBYI0dWDJa.jpg']\n",
      "Avatar\n"
     ]
    },
    {
     "name": "stderr",
     "output_type": "stream",
     "text": [
      "127.0.0.1 - - [15/Jun/2024 10:39:52] \"POST /recommendation HTTP/1.1\" 200 -\n"
     ]
    },
    {
     "name": "stdout",
     "output_type": "stream",
     "text": [
      "['Avatar', 'Apollo 18', 'Aliens vs Predator: Requiem', 'Lifeforce', 'Battle: Los Angeles', 'Titan A.E.', 'Aliens', 'Independence Day']\n",
      "['https://image.tmdb.org/t/p/w500//kyeqWdyUXW608qlYkRqosgbbJyK.jpg', 'https://image.tmdb.org/t/p/w500//oW6oUKY2oiQbynwllFboYscVzct.jpg', 'https://image.tmdb.org/t/p/w500//jCyJN1vj8jqJJ0vNw4hDH2KlySO.jpg', 'https://image.tmdb.org/t/p/w500//953hMDf9G2ZRIEs97M6iFIYWtWF.jpg', 'https://image.tmdb.org/t/p/w500//jloyGeVYZSxM9zsLFvVOWuj2ey4.jpg', 'https://image.tmdb.org/t/p/w500//el2iHk3LTJWfEnwrvcRkvWY501G.jpg', 'https://image.tmdb.org/t/p/w500//r1x5JGpyqZU8PYhbs4UcrO1Xb6x.jpg', 'https://image.tmdb.org/t/p/w500//p0BPQGSPoSa8Ml0DAf2mB2kCU0R.jpg']\n",
      "The Hobbit: The Battle of the Five Armies\n"
     ]
    },
    {
     "name": "stderr",
     "output_type": "stream",
     "text": [
      "127.0.0.1 - - [15/Jun/2024 10:40:48] \"POST /recommendation HTTP/1.1\" 200 -\n"
     ]
    },
    {
     "name": "stdout",
     "output_type": "stream",
     "text": [
      "['The Hobbit: The Battle of the Five Armies', 'The Hobbit: An Unexpected Journey', 'The Hobbit: The Desolation of Smaug', 'The Lord of the Rings: The Fellowship of the Ring', 'The Lord of the Rings: The Return of the King', 'The Lord of the Rings: The Two Towers', 'Men in Black', \"Dragon Nest: Warriors' Dawn\"]\n",
      "['https://image.tmdb.org/t/p/w500//xT98tLqatZPQApyRmlPL12LtiWp.jpg', 'https://image.tmdb.org/t/p/w500//yHA9Fc37VmpUA5UncTxxo3rTGVA.jpg', 'https://image.tmdb.org/t/p/w500//xQYiXsheRCDBA39DOrmaw1aSpbk.jpg', 'https://image.tmdb.org/t/p/w500//6oom5QYQ2yQTMJIbnvbkBL9cHo6.jpg', 'https://image.tmdb.org/t/p/w500//rCzpDGLbOoPwLjy3OAm5NUPOTrC.jpg', 'https://image.tmdb.org/t/p/w500//5VTN0pR8gcqV3EPUHHfMGnJYN9L.jpg', 'https://image.tmdb.org/t/p/w500//uLOmOF5IzWoyrgIF5MfUnh5pa1X.jpg', 'https://image.tmdb.org/t/p/w500//8fklM49dK7AZ3j8jgycxbRwECGa.jpg']\n",
      "Jurassic World\n"
     ]
    },
    {
     "name": "stderr",
     "output_type": "stream",
     "text": [
      "127.0.0.1 - - [15/Jun/2024 10:42:57] \"POST /recommendation HTTP/1.1\" 200 -\n"
     ]
    },
    {
     "name": "stdout",
     "output_type": "stream",
     "text": [
      "['Jurassic World', 'Jurassic Park', 'The Lost World: Jurassic Park', 'Walking With Dinosaurs', 'The Nut Job', 'Dinosaur', 'The Beast from 20,000 Fathoms', 'Journey to the Center of the Earth']\n",
      "['https://image.tmdb.org/t/p/w500//A0LZHXUzo5C60Oahvt7VxvwuzHw.jpg', 'https://image.tmdb.org/t/p/w500//b1xCNnyrPebIc7EWNZIa6jhb1Ww.jpg', 'https://image.tmdb.org/t/p/w500//jElpCJkSaRPYwIMwZY28gOKV7BK.jpg', 'https://image.tmdb.org/t/p/w500//kjFQHmx9EXJPqcyY1NlartUXkTE.jpg', 'https://image.tmdb.org/t/p/w500//4iHnGlmOjAj2k5zUftYDIzSITCf.jpg', 'https://image.tmdb.org/t/p/w500//rSje3FS7ycJSglowlngjsvDt7vO.jpg', 'https://image.tmdb.org/t/p/w500//a45mCN6BUPg0JHVnprDOPc2VIST.jpg', 'https://image.tmdb.org/t/p/w500//myhj05hTAcQL2rhOrMqWxiioo49.jpg']\n",
      "Alice in Wonderland\n"
     ]
    },
    {
     "name": "stderr",
     "output_type": "stream",
     "text": [
      "127.0.0.1 - - [15/Jun/2024 10:44:06] \"POST /recommendation HTTP/1.1\" 200 -\n"
     ]
    },
    {
     "name": "stdout",
     "output_type": "stream",
     "text": [
      "['Alice in Wonderland', 'Alice Through the Looking Glass', 'Mirrormask', 'Marie Antoinette', 'Lake Mungo', 'Spirited Away', 'The Snow Queen', 'Girl, Interrupted']\n",
      "['https://image.tmdb.org/t/p/w500//o0kre9wRCZz3jjSjaru7QU0UtFz.jpg', 'https://image.tmdb.org/t/p/w500//4g043PWVXkjHkxEEsEfwuAxlM8i.jpg', 'https://image.tmdb.org/t/p/w500//itIJU3NKbdgScA1WPIxXzOlm0Uj.jpg', 'https://image.tmdb.org/t/p/w500//cybXGmv8Rjd5Os8Xml6YxMBQ0Zt.jpg', 'https://image.tmdb.org/t/p/w500//5IaGu8r0t6bBaydkR6z9l9tJsCg.jpg', 'https://image.tmdb.org/t/p/w500//39wmItIWsg5sZMyRUHLkWBcuVCM.jpg', 'https://image.tmdb.org/t/p/w500//siQpJAT2IQjN218hxJXvrHePtNS.jpg', 'https://image.tmdb.org/t/p/w500//dOBdatHIVppvmRFw2z7bf9VKJr9.jpg']\n",
      "Titanic\n"
     ]
    },
    {
     "name": "stderr",
     "output_type": "stream",
     "text": [
      "127.0.0.1 - - [15/Jun/2024 11:02:03] \"POST /recommendation HTTP/1.1\" 200 -\n"
     ]
    },
    {
     "name": "stdout",
     "output_type": "stream",
     "text": [
      "['Titanic', 'Raise the Titanic', 'Captain Phillips', 'Ghost Ship', 'In the Heart of the Sea', 'The Notebook', 'Triangle', 'Pirates of the Caribbean: On Stranger Tides']\n",
      "['https://image.tmdb.org/t/p/w500//9xjZS2rlVxm8SFx8kPC3aIGCOYQ.jpg', 'https://image.tmdb.org/t/p/w500//v9FBZWie2ekmqlqAZWxNJ7JiaCh.jpg', 'https://image.tmdb.org/t/p/w500//vjsEi2JytAT76qrtUHPIhXExZAm.jpg', 'https://image.tmdb.org/t/p/w500//qT9jhRnf67dmMNpX2FmNPMeuW57.jpg', 'https://image.tmdb.org/t/p/w500//weVvNPfk6FM9vBg3BXtRtNAmiYM.jpg', 'https://image.tmdb.org/t/p/w500//rNzQyW4f8B8cQeg7Dgj3n6eT5k9.jpg', 'https://image.tmdb.org/t/p/w500//cRlMrbc4Iof7vN0ZqHwJnMBYBLi.jpg', 'https://image.tmdb.org/t/p/w500//keGfSvCmYj7CvdRx36OdVrAEibE.jpg']\n",
      "Avatar\n"
     ]
    },
    {
     "name": "stderr",
     "output_type": "stream",
     "text": [
      "127.0.0.1 - - [15/Jun/2024 11:02:53] \"POST /recommendation HTTP/1.1\" 200 -\n"
     ]
    },
    {
     "name": "stdout",
     "output_type": "stream",
     "text": [
      "['Avatar', 'Apollo 18', 'Aliens vs Predator: Requiem', 'Lifeforce', 'Battle: Los Angeles', 'Titan A.E.', 'Aliens', 'Independence Day']\n",
      "['https://image.tmdb.org/t/p/w500//kyeqWdyUXW608qlYkRqosgbbJyK.jpg', 'https://image.tmdb.org/t/p/w500//oW6oUKY2oiQbynwllFboYscVzct.jpg', 'https://image.tmdb.org/t/p/w500//jCyJN1vj8jqJJ0vNw4hDH2KlySO.jpg', 'https://image.tmdb.org/t/p/w500//953hMDf9G2ZRIEs97M6iFIYWtWF.jpg', 'https://image.tmdb.org/t/p/w500//jloyGeVYZSxM9zsLFvVOWuj2ey4.jpg', 'https://image.tmdb.org/t/p/w500//el2iHk3LTJWfEnwrvcRkvWY501G.jpg', 'https://image.tmdb.org/t/p/w500//r1x5JGpyqZU8PYhbs4UcrO1Xb6x.jpg', 'https://image.tmdb.org/t/p/w500//p0BPQGSPoSa8Ml0DAf2mB2kCU0R.jpg']\n",
      "The Amazing Spider-Man 2\n"
     ]
    },
    {
     "name": "stderr",
     "output_type": "stream",
     "text": [
      "127.0.0.1 - - [15/Jun/2024 11:03:24] \"POST /recommendation HTTP/1.1\" 200 -\n"
     ]
    },
    {
     "name": "stdout",
     "output_type": "stream",
     "text": [
      "['The Amazing Spider-Man 2', 'The Amazing Spider-Man', 'Spider-Man 3', 'Forgetting Sarah Marshall', 'Spider-Man', 'I Love You, Man', 'Trucker', 'Pan']\n",
      "['https://image.tmdb.org/t/p/w500//kV61FAIsRWZP6JhgWFOKug9RbBx.jpg', 'https://image.tmdb.org/t/p/w500//BgcvtsVWLQfjHD6Dr3YYgeSLYk.jpg', 'https://image.tmdb.org/t/p/w500//qFmwhVUoUSXjkKRmca5yGDEXBIj.jpg', 'https://image.tmdb.org/t/p/w500//d4elOzyhNWVlxpG7BwigrumkFTe.jpg', 'https://image.tmdb.org/t/p/w500//gh4cZbhZxyTbgxQPxD0dOudNPTn.jpg', 'https://image.tmdb.org/t/p/w500//xr4zAYsvgTzvMMiWu6qCAP9WBer.jpg', 'https://image.tmdb.org/t/p/w500//kiOEBjIsTiGtYBDfaoaCwwXGIFP.jpg', 'https://image.tmdb.org/t/p/w500//cjcrkPeQkrkEVYrd3lHWJbfBdrv.jpg']\n",
      "X-Men: Days of Future Past\n"
     ]
    },
    {
     "name": "stderr",
     "output_type": "stream",
     "text": [
      "127.0.0.1 - - [15/Jun/2024 11:12:05] \"POST /recommendation HTTP/1.1\" 200 -\n"
     ]
    },
    {
     "name": "stdout",
     "output_type": "stream",
     "text": [
      "['X-Men: Days of Future Past', 'X-Men: Apocalypse', 'X-Men: The Last Stand', 'X2', 'X-Men: First Class', 'X-Men', 'Captain America: Civil War', 'Cats & Dogs 2 : The Revenge of Kitty Galore']\n",
      "['https://image.tmdb.org/t/p/w500//tYfijzolzgoMOtegh1Y7j2Enorg.jpg', 'https://image.tmdb.org/t/p/w500//2mtQwJKVKQrZgTz49Dizb25eOQQ.jpg', 'https://image.tmdb.org/t/p/w500//a2xicU8DpKtRizOHjQLC1JyCSRS.jpg', 'https://image.tmdb.org/t/p/w500//rtrd4qieMAhoUshu83Vi1GazM1O.jpg', 'https://image.tmdb.org/t/p/w500//vUvlOY575rztBuJV3a0dbHW5MQR.jpg', 'https://image.tmdb.org/t/p/w500//bRDAc4GogyS9ci3ow7UnInOcriN.jpg', 'https://image.tmdb.org/t/p/w500//rAGiXaUfPzY7CDEyNKUofk3Kw2e.jpg', 'https://image.tmdb.org/t/p/w500//nTsZT66I4U3aS9ezLdOKacfvo8T.jpg']\n"
     ]
    }
   ],
   "source": [
    "# save this as app.py\n",
    "from flask import Flask, request, render_template, request\n",
    "import pickle\n",
    "import bz2file as bz2 \n",
    "import requests\n",
    "import pandas as pd\n",
    "from patsy import dmatrices\n",
    "\n",
    "movies = pickle.load(open('model/movies_list.pkl', 'rb'))\n",
    "\n",
    "similarity = pickle.load(bz2.BZ2File('model/similarity.pkl', 'rb'))\n",
    "\n",
    "\n",
    "def fetch_poster(movie_id):\n",
    "    url = 'https://api.themoviedb.org/3/movie/{}?api_key=b9093ccf3b2dedc32dd29d4b0b0bd00c&language=en-US'.format(movie_id)\n",
    "    data = requests.get(url)\n",
    "    data = data.json()\n",
    "    poster_path = data['poster_path']\n",
    "    full_path = \"https://image.tmdb.org/t/p/w500/\" + poster_path\n",
    "    return full_path\n",
    "\n",
    "def recommend(movie):\n",
    "    index = movies[movies['title'] == movie].index[0]\n",
    "    distances = sorted(list(enumerate(similarity[index])), reverse= True, key=lambda x: x[1])\n",
    "    recommended_movies_name = []\n",
    "    recommended_movies_poster = []\n",
    "    for i in distances[0:8]:\n",
    "        movie_id = movies.iloc[i[0]].movie_id\n",
    "        recommended_movies_poster.append(fetch_poster(movie_id))\n",
    "        recommended_movies_name.append(movies.iloc[i[0]].title)\n",
    "\n",
    "    return recommended_movies_name, recommended_movies_poster\n",
    "\n",
    "app = Flask(__name__)\n",
    "\n",
    "@app.route('/')\n",
    "def home():\n",
    "    return render_template(\"index.html\")\n",
    "\n",
    "@app.route('/about')\n",
    "def about():\n",
    "    return render_template(\"about.html\")\n",
    "\n",
    "@app.route('/contact')\n",
    "def contact():\n",
    "    return render_template(\"contact.html\")\n",
    "\n",
    "@app.route('/recommendation', methods = ['GET', 'POST'])\n",
    "def recommendation():\n",
    "    movie_list = movies['title'].values\n",
    "    status = False\n",
    "    if request.method == \"POST\":\n",
    "        try:\n",
    "            if request.form:\n",
    "                movies_name = request.form['movies']\n",
    "                print(movies_name)\n",
    "                recommended_movies_name, recommended_movies_poster = recommend(movies_name)\n",
    "                print(recommended_movies_name)\n",
    "                print(recommended_movies_poster)\n",
    "                status = True\n",
    "\n",
    "                return render_template(\"prediction.html\", movies_name = recommended_movies_name, poster = recommended_movies_poster, movie_list = movie_list, status = status)\n",
    "\n",
    "\n",
    "\n",
    "\n",
    "        except Exception as e:\n",
    "            error = {'error': e}\n",
    "            return render_template(\"prediction.html\",error = error, movie_list = movie_list, status = status)\n",
    "\n",
    "    else:\n",
    "        return render_template(\"prediction.html\", movie_list = movie_list, status = status)\n",
    "\n",
    "\n",
    "if __name__ == '__main__':\n",
    "    app.run()\n",
    "    \n"
   ]
  },
  {
   "cell_type": "code",
   "execution_count": null,
   "id": "dc56af35",
   "metadata": {},
   "outputs": [],
   "source": []
  },
  {
   "cell_type": "code",
   "execution_count": null,
   "id": "7ebfcac5-42f3-4cb1-b843-612e627c6e86",
   "metadata": {},
   "outputs": [],
   "source": []
  },
  {
   "cell_type": "code",
   "execution_count": null,
   "id": "6b34176d-3e6c-46ca-9a0c-85daf4fb329a",
   "metadata": {},
   "outputs": [],
   "source": []
  }
 ],
 "metadata": {
  "kernelspec": {
   "display_name": "Python 3 (ipykernel)",
   "language": "python",
   "name": "python3"
  },
  "language_info": {
   "codemirror_mode": {
    "name": "ipython",
    "version": 3
   },
   "file_extension": ".py",
   "mimetype": "text/x-python",
   "name": "python",
   "nbconvert_exporter": "python",
   "pygments_lexer": "ipython3",
   "version": "3.11.7"
  }
 },
 "nbformat": 4,
 "nbformat_minor": 5
}
