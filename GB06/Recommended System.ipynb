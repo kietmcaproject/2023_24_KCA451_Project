{
 "cells": [
  {
   "cell_type": "code",
   "execution_count": 1,
   "id": "9f631b8c",
   "metadata": {},
   "outputs": [],
   "source": [
    "import pandas as pd\n",
    "import numpy as np\n",
    "import warnings\n",
    "warnings.filterwarnings(\"ignore\")"
   ]
  },
  {
   "cell_type": "code",
   "execution_count": 2,
   "id": "144fd262",
   "metadata": {},
   "outputs": [],
   "source": [
    "movies = pd.read_csv('dataset/tmdb_5000_movies.csv')\n",
    "credits = pd.read_csv('dataset/tmdb_5000_credits.csv')"
   ]
  },
  {
   "cell_type": "code",
   "execution_count": 3,
   "id": "bfd5b526",
   "metadata": {},
   "outputs": [],
   "source": [
    "movies = movies.merge(credits,on='title')"
   ]
  },
  {
   "cell_type": "code",
   "execution_count": 4,
   "id": "11e7c0da",
   "metadata": {},
   "outputs": [],
   "source": [
    "movies = movies[['movie_id','title','overview','genres','keywords','cast','crew']]"
   ]
  },
  {
   "cell_type": "code",
   "execution_count": 5,
   "id": "edd538be",
   "metadata": {},
   "outputs": [],
   "source": [
    "movies.isnull().sum()\n",
    "movies.dropna(inplace=True)"
   ]
  },
  {
   "cell_type": "code",
   "execution_count": 6,
   "id": "fd97c49d",
   "metadata": {},
   "outputs": [],
   "source": [
    "import ast\n",
    "def convert(obj):\n",
    "    L = []\n",
    "    for i in ast.literal_eval(obj):\n",
    "        L.append(i['name'])\n",
    "    return L"
   ]
  },
  {
   "cell_type": "code",
   "execution_count": 7,
   "id": "77a15226",
   "metadata": {},
   "outputs": [],
   "source": [
    "movies['genres'] = movies['genres'].apply(convert)\n",
    "movies['keywords'] = movies['keywords'].apply(convert)"
   ]
  },
  {
   "cell_type": "code",
   "execution_count": 8,
   "id": "f607623f",
   "metadata": {},
   "outputs": [],
   "source": [
    "def convert3(obj):\n",
    "    L = []\n",
    "    counter = 0\n",
    "    for i in ast.literal_eval(obj):\n",
    "        if counter!=3:\n",
    "            counter +=1 \n",
    "            L.append(i['name'])\n",
    "        else:\n",
    "            break\n",
    "    return L"
   ]
  },
  {
   "cell_type": "code",
   "execution_count": 9,
   "id": "b96deecf",
   "metadata": {},
   "outputs": [],
   "source": [
    "movies['cast'] = movies['cast'].apply(convert3)"
   ]
  },
  {
   "cell_type": "code",
   "execution_count": 10,
   "id": "ac0cf12e",
   "metadata": {},
   "outputs": [],
   "source": [
    "def fetch_director(obj):\n",
    "    L = []\n",
    "    for i in ast.literal_eval(obj):\n",
    "        if i['job']=='Director':\n",
    "            L.append(i['name'])\n",
    "            break\n",
    "    return L"
   ]
  },
  {
   "cell_type": "code",
   "execution_count": 11,
   "id": "e7ec481a",
   "metadata": {},
   "outputs": [],
   "source": [
    "movies['crew'] = movies['crew'].apply(fetch_director)"
   ]
  },
  {
   "cell_type": "code",
   "execution_count": 12,
   "id": "33dba1d5",
   "metadata": {},
   "outputs": [],
   "source": [
    "movies['overview'] = movies['overview'].apply(lambda x:x.split())"
   ]
  },
  {
   "cell_type": "code",
   "execution_count": 13,
   "id": "2c58e005",
   "metadata": {},
   "outputs": [],
   "source": [
    "movies['genres'] = movies['genres'].apply(lambda x:[i.replace(' ','') for i in x]) \n",
    "movies['keywords'] = movies['keywords'].apply(lambda x:[i.replace(' ','') for i in x]) \n",
    "movies['cast'] = movies['cast'].apply(lambda x:[i.replace(' ','') for i in x]) \n",
    "movies['crew'] = movies['crew'].apply(lambda x:[i.replace(' ','') for i in x]) "
   ]
  },
  {
   "cell_type": "code",
   "execution_count": 14,
   "id": "56964f77",
   "metadata": {},
   "outputs": [],
   "source": [
    "movies['tags'] = movies['overview']+movies['keywords']+movies['cast']+movies['crew']"
   ]
  },
  {
   "cell_type": "code",
   "execution_count": 15,
   "id": "f41e7de6",
   "metadata": {},
   "outputs": [],
   "source": [
    "new_df = movies[['movie_id','title','tags']]"
   ]
  },
  {
   "cell_type": "code",
   "execution_count": 16,
   "id": "48784d76",
   "metadata": {},
   "outputs": [],
   "source": [
    "new_df['tags'] = new_df['tags'].apply(lambda x:' '.join(x))"
   ]
  },
  {
   "cell_type": "code",
   "execution_count": 17,
   "id": "770fde9f",
   "metadata": {},
   "outputs": [],
   "source": [
    "new_df['tags'] = new_df['tags'].apply(lambda x:x.lower())"
   ]
  },
  {
   "cell_type": "code",
   "execution_count": 18,
   "id": "efce9ae1",
   "metadata": {},
   "outputs": [],
   "source": [
    "import nltk\n",
    "from nltk.stem.porter import PorterStemmer\n",
    "ps = PorterStemmer()\n",
    "\n",
    "def stem(text):\n",
    "    y = []\n",
    "    for i in text.split():\n",
    "        y.append(ps.stem(i))\n",
    "    return \" \".join(y)"
   ]
  },
  {
   "cell_type": "code",
   "execution_count": 19,
   "id": "2bd9cd39",
   "metadata": {},
   "outputs": [],
   "source": [
    "from sklearn.feature_extraction.text import CountVectorizer\n",
    "cv = CountVectorizer(max_features=5000, stop_words='english')"
   ]
  },
  {
   "cell_type": "code",
   "execution_count": 20,
   "id": "634ff018",
   "metadata": {},
   "outputs": [
    {
     "data": {
      "text/plain": [
       "(4806, 5000)"
      ]
     },
     "execution_count": 20,
     "metadata": {},
     "output_type": "execute_result"
    }
   ],
   "source": [
    "cv.fit_transform(new_df['tags']).toarray().shape"
   ]
  },
  {
   "cell_type": "code",
   "execution_count": 21,
   "id": "4b708eac",
   "metadata": {},
   "outputs": [],
   "source": [
    "vectors = cv.fit_transform(new_df['tags']).toarray()"
   ]
  },
  {
   "cell_type": "code",
   "execution_count": 22,
   "id": "4349a005",
   "metadata": {},
   "outputs": [
    {
     "data": {
      "text/plain": [
       "array([0, 0, 0, ..., 0, 0, 0], dtype=int64)"
      ]
     },
     "execution_count": 22,
     "metadata": {},
     "output_type": "execute_result"
    }
   ],
   "source": [
    "vectors[0]"
   ]
  },
  {
   "cell_type": "code",
   "execution_count": 23,
   "id": "90b32274",
   "metadata": {},
   "outputs": [],
   "source": [
    "#cv.get_feature_names()"
   ]
  },
  {
   "cell_type": "code",
   "execution_count": 24,
   "id": "0112d938",
   "metadata": {},
   "outputs": [],
   "source": [
    "from sklearn.metrics.pairwise import cosine_similarity\n",
    "similarty = cosine_similarity(vectors)"
   ]
  },
  {
   "cell_type": "code",
   "execution_count": 25,
   "id": "48bab981",
   "metadata": {},
   "outputs": [],
   "source": [
    "def recommend(movie):\n",
    "    movie_index = new_df[new_df['title'] == movie].index[0]\n",
    "    distances = similarty[movie_index]\n",
    "    movie_list = sorted(list(enumerate(distances)),reverse=True,key=lambda x:x[1])[0:8]\n",
    "    \n",
    "    for i in movie_list:\n",
    "        print(new_df.iloc[i[0]].title)\n",
    "    "
   ]
  },
  {
   "cell_type": "code",
   "execution_count": 26,
   "id": "c531ffef",
   "metadata": {},
   "outputs": [
    {
     "name": "stdout",
     "output_type": "stream",
     "text": [
      "Avatar\n",
      "Apollo 18\n",
      "Aliens vs Predator: Requiem\n",
      "Lifeforce\n",
      "Battle: Los Angeles\n",
      "Titan A.E.\n",
      "Aliens\n",
      "Independence Day\n"
     ]
    }
   ],
   "source": [
    "recommend('Avatar')"
   ]
  },
  {
   "cell_type": "code",
   "execution_count": 28,
   "id": "95092fe8",
   "metadata": {},
   "outputs": [
    {
     "name": "stdout",
     "output_type": "stream",
     "text": [
      "2296672\n"
     ]
    }
   ],
   "source": [
    "# get model in pickel\n",
    "import pickle\n",
    "import os\n",
    "\n",
    "pickle.dump(new_df, open('model/movies_list.pkl','wb'))\n",
    "print(os.path.getsize(\"model/movies_list.pkl\"))"
   ]
  },
  {
   "cell_type": "code",
   "execution_count": 29,
   "id": "268edf80",
   "metadata": {},
   "outputs": [
    {
     "name": "stdout",
     "output_type": "stream",
     "text": [
      "184781251\n"
     ]
    }
   ],
   "source": [
    "pickle.dump(similarty,open(\"model/similarity.pkl\",'wb'))\n",
    "print(os.path.getsize(\"model/similarity.pkl\"))"
   ]
  },
  {
   "cell_type": "code",
   "execution_count": 30,
   "id": "00097273",
   "metadata": {},
   "outputs": [
    {
     "name": "stdout",
     "output_type": "stream",
     "text": [
      "19049069\n"
     ]
    }
   ],
   "source": [
    "# Compressing Data of pickel model\n",
    "import bz2file as bz2 \n",
    "pickle.dump(similarty,bz2.BZ2File(\"model/similarity.pkl\",'wb'))\n",
    " \n",
    "print(os.path.getsize(\"model/similarity.pkl\"))"
   ]
  },
  {
   "cell_type": "code",
   "execution_count": 31,
   "id": "b4a55607",
   "metadata": {},
   "outputs": [],
   "source": [
    "# pip install bz2file, patsy"
   ]
  },
  {
   "cell_type": "code",
   "execution_count": null,
   "id": "f1ae36c8",
   "metadata": {},
   "outputs": [],
   "source": [
    "# save this as app.py\n",
    "from flask import Flask, request, render_template, request\n",
    "import pickle\n",
    "import bz2file as bz2 \n",
    "import requests\n",
    "import pandas as pd\n",
    "from patsy import dmatrices\n",
    "\n",
    "movies = pickle.load(open('model/movies_list.pkl', 'rb'))\n",
    "\n",
    "similarity = pickle.load(bz2.BZ2File('model/similarity.pkl', 'rb'))\n",
    "\n",
    "\n",
    "def fetch_poster(movie_id):\n",
    "    url = 'https://api.themoviedb.org/3/movie/{}?api_key=b9093ccf3b2dedc32dd29d4b0b0bd00c&language=en-US'.format(movie_id)\n",
    "    data = requests.get(url)\n",
    "    data = data.json()\n",
    "    poster_path = data['poster_path']\n",
    "    full_path = \"https://image.tmdb.org/t/p/w500/\" + poster_path\n",
    "    return full_path\n",
    "\n",
    "def recommend(movie):\n",
    "    index = movies[movies['title'] == movie].index[0]\n",
    "    distances = sorted(list(enumerate(similarity[index])), reverse= True, key=lambda x: x[1])\n",
    "    recommended_movies_name = []\n",
    "    recommended_movies_poster = []\n",
    "    for i in distances[0:8]:\n",
    "        movie_id = movies.iloc[i[0]].movie_id\n",
    "        recommended_movies_poster.append(fetch_poster(movie_id))\n",
    "        recommended_movies_name.append(movies.iloc[i[0]].title)\n",
    "\n",
    "    return recommended_movies_name, recommended_movies_poster\n",
    "\n",
    "app = Flask(__name__)\n",
    "\n",
    "@app.route('/')\n",
    "def home():\n",
    "    return render_template(\"index.html\")\n",
    "\n",
    "@app.route('/about')\n",
    "def about():\n",
    "    return render_template(\"about.html\")\n",
    "\n",
    "@app.route('/contact')\n",
    "def contact():\n",
    "    return render_template(\"contact.html\")\n",
    "\n",
    "@app.route('/recommendation', methods = ['GET', 'POST'])\n",
    "def recommendation():\n",
    "    movie_list = movies['title'].values\n",
    "    status = False\n",
    "    if request.method == \"POST\":\n",
    "        try:\n",
    "            if request.form:\n",
    "                movies_name = request.form['movies']\n",
    "                print(movies_name)\n",
    "                recommended_movies_name, recommended_movies_poster = recommend(movies_name)\n",
    "                print(recommended_movies_name)\n",
    "                print(recommended_movies_poster)\n",
    "                status = True\n",
    "\n",
    "                return render_template(\"prediction.html\", movies_name = recommended_movies_name, poster = recommended_movies_poster, movie_list = movie_list, status = status)\n",
    "\n",
    "\n",
    "\n",
    "\n",
    "        except Exception as e:\n",
    "            error = {'error': e}\n",
    "            return render_template(\"prediction.html\",error = error, movie_list = movie_list, status = status)\n",
    "\n",
    "    else:\n",
    "        return render_template(\"prediction.html\", movie_list = movie_list, status = status)\n",
    "\n",
    "\n",
    "if __name__ == '__main__':\n",
    "    app.run()\n",
    "    "
   ]
  },
  {
   "cell_type": "code",
   "execution_count": null,
   "id": "f2b737b2",
   "metadata": {},
   "outputs": [],
   "source": []
  },
  {
   "cell_type": "code",
   "execution_count": null,
   "id": "20701b74-2560-4545-b0b0-91a4ec89bac0",
   "metadata": {},
   "outputs": [],
   "source": []
  }
 ],
 "metadata": {
  "kernelspec": {
   "display_name": "Python 3 (ipykernel)",
   "language": "python",
   "name": "python3"
  },
  "language_info": {
   "codemirror_mode": {
    "name": "ipython",
    "version": 3
   },
   "file_extension": ".py",
   "mimetype": "text/x-python",
   "name": "python",
   "nbconvert_exporter": "python",
   "pygments_lexer": "ipython3",
   "version": "3.11.7"
  }
 },
 "nbformat": 4,
 "nbformat_minor": 5
}
