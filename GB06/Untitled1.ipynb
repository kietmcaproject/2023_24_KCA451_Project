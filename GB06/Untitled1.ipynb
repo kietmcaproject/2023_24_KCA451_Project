{
 "cells": [
  {
   "cell_type": "code",
   "execution_count": null,
   "id": "eeeb4b6e-ea13-43e2-84e5-e9fa04af1085",
   "metadata": {},
   "outputs": [
    {
     "name": "stdout",
     "output_type": "stream",
     "text": [
      " * Serving Flask app '__main__'\n",
      " * Debug mode: off\n"
     ]
    },
    {
     "name": "stderr",
     "output_type": "stream",
     "text": [
      "WARNING: This is a development server. Do not use it in a production deployment. Use a production WSGI server instead.\n",
      " * Running on http://127.0.0.1:5000\n",
      "Press CTRL+C to quit\n",
      "127.0.0.1 - - [05/Apr/2024 10:44:46] \"GET / HTTP/1.1\" 200 -\n",
      "127.0.0.1 - - [05/Apr/2024 10:44:46] \"GET /static/banner2.png HTTP/1.1\" 304 -\n"
     ]
    }
   ],
   "source": [
    "# save this as app.py\n",
    "from flask import Flask, request, render_template, request\n",
    "import pickle\n",
    "import bz2file as bz2 \n",
    "import requests\n",
    "import pandas as pd\n",
    "from patsy import dmatrices\n",
    "\n",
    "movies = pickle.load(open('model/movies_list.pkl', 'rb'))\n",
    "\n",
    "similarity = pickle.load(bz2.BZ2File('model/similarity.pkl', 'rb'))\n",
    "\n",
    "\n",
    "def fetch_poster(movie_id):\n",
    "    url = 'https://api.themoviedb.org/3/movie/{}?api_key=b9093ccf3b2dedc32dd29d4b0b0bd00c&language=en-US'.format(movie_id)\n",
    "    data = requests.get(url)\n",
    "    data = data.json()\n",
    "    poster_path = data['poster_path']\n",
    "    full_path = \"https://image.tmdb.org/t/p/w500/\" + poster_path\n",
    "    return full_path\n",
    "\n",
    "def recommend(movie):\n",
    "    index = movies[movies['title'] == movie].index[0]\n",
    "    distances = sorted(list(enumerate(similarity[index])), reverse= True, key=lambda x: x[1])\n",
    "    recommended_movies_name = []\n",
    "    recommended_movies_poster = []\n",
    "    for i in distances[0:8]:\n",
    "        movie_id = movies.iloc[i[0]].movie_id\n",
    "        recommended_movies_poster.append(fetch_poster(movie_id))\n",
    "        recommended_movies_name.append(movies.iloc[i[0]].title)\n",
    "\n",
    "    return recommended_movies_name, recommended_movies_poster\n",
    "\n",
    "app = Flask(__name__)\n",
    "\n",
    "@app.route('/')\n",
    "def home():\n",
    "    return render_template(\"index.html\")\n",
    "\n",
    "@app.route('/about')\n",
    "def about():\n",
    "    return render_template(\"about.html\")\n",
    "\n",
    "@app.route('/contact')\n",
    "def contact():\n",
    "    return render_template(\"contact.html\")\n",
    "\n",
    "@app.route('/recommendation', methods = ['GET', 'POST'])\n",
    "def recommendation():\n",
    "    movie_list = movies['title'].values\n",
    "    status = False\n",
    "    if request.method == \"POST\":\n",
    "        try:\n",
    "            if request.form:\n",
    "                movies_name = request.form['movies']\n",
    "                print(movies_name)\n",
    "                recommended_movies_name, recommended_movies_poster = recommend(movies_name)\n",
    "                print(recommended_movies_name)\n",
    "                print(recommended_movies_poster)\n",
    "                status = True\n",
    "\n",
    "                return render_template(\"prediction.html\", movies_name = recommended_movies_name, poster = recommended_movies_poster, movie_list = movie_list, status = status)\n",
    "\n",
    "\n",
    "\n",
    "\n",
    "        except Exception as e:\n",
    "            error = {'error': e}\n",
    "            return render_template(\n",
    "                \"prediction.html\",error = error, movie_list = movie_list, status = status)\n",
    "\n",
    "    else:\n",
    "        return render_template(\"prediction.html\", movie_list = movie_list, status = status)\n",
    "\n",
    "\n",
    "if __name__ == '__main__':\n",
    "    app.run()\n",
    "    \n"
   ]
  },
  {
   "cell_type": "code",
   "execution_count": null,
   "id": "187d0493-9baa-4a5c-b9ef-2a5d4356bd3f",
   "metadata": {},
   "outputs": [],
   "source": []
  }
 ],
 "metadata": {
  "kernelspec": {
   "display_name": "Python 3 (ipykernel)",
   "language": "python",
   "name": "python3"
  },
  "language_info": {
   "codemirror_mode": {
    "name": "ipython",
    "version": 3
   },
   "file_extension": ".py",
   "mimetype": "text/x-python",
   "name": "python",
   "nbconvert_exporter": "python",
   "pygments_lexer": "ipython3",
   "version": "3.11.7"
  }
 },
 "nbformat": 4,
 "nbformat_minor": 5
}
